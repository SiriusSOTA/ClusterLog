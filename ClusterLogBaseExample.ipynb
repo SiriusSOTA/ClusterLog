{
  "nbformat": 4,
  "nbformat_minor": 0,
  "metadata": {
    "colab": {
      "name": "ClusterLogBaseExample.ipynb",
      "provenance": [],
      "toc_visible": true
    },
    "kernelspec": {
      "name": "python3",
      "display_name": "Python 3"
    },
    "language_info": {
      "name": "python"
    }
  },
  "cells": [
    {
      "cell_type": "code",
      "metadata": {
        "colab": {
          "base_uri": "https://localhost:8080/"
        },
        "id": "aObGIy4nZUwS",
        "outputId": "3fbd62e1-d243-4c6e-a1cc-d6bece29c572"
      },
      "source": [
        "!git clone https://github.com/maria-grigorieva/ClusterLog.git"
      ],
      "execution_count": null,
      "outputs": [
        {
          "output_type": "stream",
          "text": [
            "Cloning into 'ClusterLog'...\n",
            "remote: Enumerating objects: 302, done.\u001b[K\n",
            "remote: Counting objects: 100% (302/302), done.\u001b[K\n",
            "remote: Compressing objects: 100% (162/162), done.\u001b[K\n",
            "remote: Total 1859 (delta 198), reused 232 (delta 140), pack-reused 1557\u001b[K\n",
            "Receiving objects: 100% (1859/1859), 122.44 MiB | 19.88 MiB/s, done.\n",
            "Resolving deltas: 100% (1285/1285), done.\n"
          ],
          "name": "stdout"
        }
      ]
    },
    {
      "cell_type": "code",
      "metadata": {
        "colab": {
          "base_uri": "https://localhost:8080/"
        },
        "id": "o1m9-JdpZaF_",
        "outputId": "4ca2bd43-e6e4-456c-cd58-7a8a383b53fb"
      },
      "source": [
        "%cd ClusterLog/"
      ],
      "execution_count": null,
      "outputs": [
        {
          "output_type": "stream",
          "text": [
            "/content/ClusterLog\n"
          ],
          "name": "stdout"
        }
      ]
    },
    {
      "cell_type": "code",
      "metadata": {
        "colab": {
          "base_uri": "https://localhost:8080/"
        },
        "id": "D5GUHD3LZydX",
        "outputId": "f71715ee-f2fc-4110-8186-2c47b3acfa8c"
      },
      "source": [
        "!pip install -r requirements.txt"
      ],
      "execution_count": null,
      "outputs": [
        {
          "output_type": "stream",
          "text": [
            "Requirement already satisfied: editdistance==0.5.3 in /usr/local/lib/python3.7/dist-packages (from -r requirements.txt (line 1)) (0.5.3)\n",
            "Requirement already satisfied: gensim==3.8.1 in /usr/local/lib/python3.7/dist-packages (from -r requirements.txt (line 2)) (3.8.1)\n",
            "Requirement already satisfied: kneed==0.5.1 in /usr/local/lib/python3.7/dist-packages (from -r requirements.txt (line 3)) (0.5.1)\n",
            "Requirement already satisfied: nltk==3.4.5 in /usr/local/lib/python3.7/dist-packages (from -r requirements.txt (line 4)) (3.4.5)\n",
            "Requirement already satisfied: numpy==1.18.1 in /usr/local/lib/python3.7/dist-packages (from -r requirements.txt (line 5)) (1.18.1)\n",
            "Requirement already satisfied: pandas==1.0.1 in /usr/local/lib/python3.7/dist-packages (from -r requirements.txt (line 6)) (1.0.1)\n",
            "Requirement already satisfied: pyonmttok==1.10.1 in /usr/local/lib/python3.7/dist-packages (from -r requirements.txt (line 7)) (1.10.1)\n",
            "Requirement already satisfied: scikit-learn==0.22.1 in /usr/local/lib/python3.7/dist-packages (from -r requirements.txt (line 8)) (0.22.1)\n",
            "Requirement already satisfied: matplotlib==3.1.2 in /usr/local/lib/python3.7/dist-packages (from -r requirements.txt (line 9)) (3.1.2)\n",
            "Requirement already satisfied: hdbscan==0.8.24 in /usr/local/lib/python3.7/dist-packages (from -r requirements.txt (line 10)) (0.8.24)\n",
            "Requirement already satisfied: python-rake==1.4.5 in /usr/local/lib/python3.7/dist-packages (from -r requirements.txt (line 11)) (1.4.5)\n",
            "Requirement already satisfied: pytextrank==2.0.1 in /usr/local/lib/python3.7/dist-packages (from -r requirements.txt (line 12)) (2.0.1)\n",
            "Requirement already satisfied: Jinja2==2.11.2 in /usr/local/lib/python3.7/dist-packages (from -r requirements.txt (line 13)) (2.11.2)\n",
            "Requirement already satisfied: smart-open>=1.8.1 in /usr/local/lib/python3.7/dist-packages (from gensim==3.8.1->-r requirements.txt (line 2)) (4.2.0)\n",
            "Requirement already satisfied: scipy>=0.18.1 in /usr/local/lib/python3.7/dist-packages (from gensim==3.8.1->-r requirements.txt (line 2)) (1.4.1)\n",
            "Requirement already satisfied: six>=1.5.0 in /usr/local/lib/python3.7/dist-packages (from gensim==3.8.1->-r requirements.txt (line 2)) (1.15.0)\n",
            "Requirement already satisfied: pytz>=2017.2 in /usr/local/lib/python3.7/dist-packages (from pandas==1.0.1->-r requirements.txt (line 6)) (2018.9)\n",
            "Requirement already satisfied: python-dateutil>=2.6.1 in /usr/local/lib/python3.7/dist-packages (from pandas==1.0.1->-r requirements.txt (line 6)) (2.8.1)\n",
            "Requirement already satisfied: joblib>=0.11 in /usr/local/lib/python3.7/dist-packages (from scikit-learn==0.22.1->-r requirements.txt (line 8)) (1.0.1)\n",
            "Requirement already satisfied: cycler>=0.10 in /usr/local/lib/python3.7/dist-packages (from matplotlib==3.1.2->-r requirements.txt (line 9)) (0.10.0)\n",
            "Requirement already satisfied: kiwisolver>=1.0.1 in /usr/local/lib/python3.7/dist-packages (from matplotlib==3.1.2->-r requirements.txt (line 9)) (1.3.1)\n",
            "Requirement already satisfied: pyparsing!=2.0.4,!=2.1.2,!=2.1.6,>=2.0.1 in /usr/local/lib/python3.7/dist-packages (from matplotlib==3.1.2->-r requirements.txt (line 9)) (2.4.7)\n",
            "Requirement already satisfied: cython>=0.27 in /usr/local/lib/python3.7/dist-packages (from hdbscan==0.8.24->-r requirements.txt (line 10)) (0.29.22)\n",
            "Requirement already satisfied: spacy in /usr/local/lib/python3.7/dist-packages (from pytextrank==2.0.1->-r requirements.txt (line 12)) (2.2.4)\n",
            "Requirement already satisfied: networkx in /usr/local/lib/python3.7/dist-packages (from pytextrank==2.0.1->-r requirements.txt (line 12)) (2.5)\n",
            "Requirement already satisfied: coverage in /usr/local/lib/python3.7/dist-packages (from pytextrank==2.0.1->-r requirements.txt (line 12)) (3.7.1)\n",
            "Requirement already satisfied: graphviz in /usr/local/lib/python3.7/dist-packages (from pytextrank==2.0.1->-r requirements.txt (line 12)) (0.10.1)\n",
            "Requirement already satisfied: MarkupSafe>=0.23 in /usr/local/lib/python3.7/dist-packages (from Jinja2==2.11.2->-r requirements.txt (line 13)) (1.1.1)\n",
            "Requirement already satisfied: cymem<2.1.0,>=2.0.2 in /usr/local/lib/python3.7/dist-packages (from spacy->pytextrank==2.0.1->-r requirements.txt (line 12)) (2.0.5)\n",
            "Requirement already satisfied: catalogue<1.1.0,>=0.0.7 in /usr/local/lib/python3.7/dist-packages (from spacy->pytextrank==2.0.1->-r requirements.txt (line 12)) (1.0.0)\n",
            "Requirement already satisfied: tqdm<5.0.0,>=4.38.0 in /usr/local/lib/python3.7/dist-packages (from spacy->pytextrank==2.0.1->-r requirements.txt (line 12)) (4.41.1)\n",
            "Requirement already satisfied: setuptools in /usr/local/lib/python3.7/dist-packages (from spacy->pytextrank==2.0.1->-r requirements.txt (line 12)) (54.2.0)\n",
            "Requirement already satisfied: requests<3.0.0,>=2.13.0 in /usr/local/lib/python3.7/dist-packages (from spacy->pytextrank==2.0.1->-r requirements.txt (line 12)) (2.23.0)\n",
            "Requirement already satisfied: wasabi<1.1.0,>=0.4.0 in /usr/local/lib/python3.7/dist-packages (from spacy->pytextrank==2.0.1->-r requirements.txt (line 12)) (0.8.2)\n",
            "Requirement already satisfied: murmurhash<1.1.0,>=0.28.0 in /usr/local/lib/python3.7/dist-packages (from spacy->pytextrank==2.0.1->-r requirements.txt (line 12)) (1.0.5)\n",
            "Requirement already satisfied: plac<1.2.0,>=0.9.6 in /usr/local/lib/python3.7/dist-packages (from spacy->pytextrank==2.0.1->-r requirements.txt (line 12)) (1.1.3)\n",
            "Requirement already satisfied: thinc==7.4.0 in /usr/local/lib/python3.7/dist-packages (from spacy->pytextrank==2.0.1->-r requirements.txt (line 12)) (7.4.0)\n",
            "Requirement already satisfied: preshed<3.1.0,>=3.0.2 in /usr/local/lib/python3.7/dist-packages (from spacy->pytextrank==2.0.1->-r requirements.txt (line 12)) (3.0.5)\n",
            "Requirement already satisfied: srsly<1.1.0,>=1.0.2 in /usr/local/lib/python3.7/dist-packages (from spacy->pytextrank==2.0.1->-r requirements.txt (line 12)) (1.0.5)\n",
            "Requirement already satisfied: blis<0.5.0,>=0.4.0 in /usr/local/lib/python3.7/dist-packages (from spacy->pytextrank==2.0.1->-r requirements.txt (line 12)) (0.4.1)\n",
            "Requirement already satisfied: decorator>=4.3.0 in /usr/local/lib/python3.7/dist-packages (from networkx->pytextrank==2.0.1->-r requirements.txt (line 12)) (4.4.2)\n",
            "Requirement already satisfied: importlib-metadata>=0.20; python_version < \"3.8\" in /usr/local/lib/python3.7/dist-packages (from catalogue<1.1.0,>=0.0.7->spacy->pytextrank==2.0.1->-r requirements.txt (line 12)) (3.8.1)\n",
            "Requirement already satisfied: certifi>=2017.4.17 in /usr/local/lib/python3.7/dist-packages (from requests<3.0.0,>=2.13.0->spacy->pytextrank==2.0.1->-r requirements.txt (line 12)) (2020.12.5)\n",
            "Requirement already satisfied: chardet<4,>=3.0.2 in /usr/local/lib/python3.7/dist-packages (from requests<3.0.0,>=2.13.0->spacy->pytextrank==2.0.1->-r requirements.txt (line 12)) (3.0.4)\n",
            "Requirement already satisfied: idna<3,>=2.5 in /usr/local/lib/python3.7/dist-packages (from requests<3.0.0,>=2.13.0->spacy->pytextrank==2.0.1->-r requirements.txt (line 12)) (2.10)\n",
            "Requirement already satisfied: urllib3!=1.25.0,!=1.25.1,<1.26,>=1.21.1 in /usr/local/lib/python3.7/dist-packages (from requests<3.0.0,>=2.13.0->spacy->pytextrank==2.0.1->-r requirements.txt (line 12)) (1.24.3)\n",
            "Requirement already satisfied: typing-extensions>=3.6.4; python_version < \"3.8\" in /usr/local/lib/python3.7/dist-packages (from importlib-metadata>=0.20; python_version < \"3.8\"->catalogue<1.1.0,>=0.0.7->spacy->pytextrank==2.0.1->-r requirements.txt (line 12)) (3.7.4.3)\n",
            "Requirement already satisfied: zipp>=0.5 in /usr/local/lib/python3.7/dist-packages (from importlib-metadata>=0.20; python_version < \"3.8\"->catalogue<1.1.0,>=0.0.7->spacy->pytextrank==2.0.1->-r requirements.txt (line 12)) (3.4.1)\n"
          ],
          "name": "stdout"
        }
      ]
    },
    {
      "cell_type": "code",
      "metadata": {
        "colab": {
          "base_uri": "https://localhost:8080/"
        },
        "id": "xymlSFagZ0uC",
        "outputId": "3bc13b1d-1451-49d0-a38c-d66d109238fb"
      },
      "source": [
        "!python -m spacy download en_core_web_sm"
      ],
      "execution_count": null,
      "outputs": [
        {
          "output_type": "stream",
          "text": [
            "Requirement already satisfied: en_core_web_sm==2.2.5 from https://github.com/explosion/spacy-models/releases/download/en_core_web_sm-2.2.5/en_core_web_sm-2.2.5.tar.gz#egg=en_core_web_sm==2.2.5 in /usr/local/lib/python3.7/dist-packages (2.2.5)\n",
            "Requirement already satisfied: spacy>=2.2.2 in /usr/local/lib/python3.7/dist-packages (from en_core_web_sm==2.2.5) (2.2.4)\n",
            "Requirement already satisfied: murmurhash<1.1.0,>=0.28.0 in /usr/local/lib/python3.7/dist-packages (from spacy>=2.2.2->en_core_web_sm==2.2.5) (1.0.5)\n",
            "Requirement already satisfied: numpy>=1.15.0 in /usr/local/lib/python3.7/dist-packages (from spacy>=2.2.2->en_core_web_sm==2.2.5) (1.18.1)\n",
            "Requirement already satisfied: wasabi<1.1.0,>=0.4.0 in /usr/local/lib/python3.7/dist-packages (from spacy>=2.2.2->en_core_web_sm==2.2.5) (0.8.2)\n",
            "Requirement already satisfied: cymem<2.1.0,>=2.0.2 in /usr/local/lib/python3.7/dist-packages (from spacy>=2.2.2->en_core_web_sm==2.2.5) (2.0.5)\n",
            "Requirement already satisfied: thinc==7.4.0 in /usr/local/lib/python3.7/dist-packages (from spacy>=2.2.2->en_core_web_sm==2.2.5) (7.4.0)\n",
            "Requirement already satisfied: setuptools in /usr/local/lib/python3.7/dist-packages (from spacy>=2.2.2->en_core_web_sm==2.2.5) (54.2.0)\n",
            "Requirement already satisfied: catalogue<1.1.0,>=0.0.7 in /usr/local/lib/python3.7/dist-packages (from spacy>=2.2.2->en_core_web_sm==2.2.5) (1.0.0)\n",
            "Requirement already satisfied: plac<1.2.0,>=0.9.6 in /usr/local/lib/python3.7/dist-packages (from spacy>=2.2.2->en_core_web_sm==2.2.5) (1.1.3)\n",
            "Requirement already satisfied: tqdm<5.0.0,>=4.38.0 in /usr/local/lib/python3.7/dist-packages (from spacy>=2.2.2->en_core_web_sm==2.2.5) (4.41.1)\n",
            "Requirement already satisfied: requests<3.0.0,>=2.13.0 in /usr/local/lib/python3.7/dist-packages (from spacy>=2.2.2->en_core_web_sm==2.2.5) (2.23.0)\n",
            "Requirement already satisfied: preshed<3.1.0,>=3.0.2 in /usr/local/lib/python3.7/dist-packages (from spacy>=2.2.2->en_core_web_sm==2.2.5) (3.0.5)\n",
            "Requirement already satisfied: blis<0.5.0,>=0.4.0 in /usr/local/lib/python3.7/dist-packages (from spacy>=2.2.2->en_core_web_sm==2.2.5) (0.4.1)\n",
            "Requirement already satisfied: srsly<1.1.0,>=1.0.2 in /usr/local/lib/python3.7/dist-packages (from spacy>=2.2.2->en_core_web_sm==2.2.5) (1.0.5)\n",
            "Requirement already satisfied: importlib-metadata>=0.20; python_version < \"3.8\" in /usr/local/lib/python3.7/dist-packages (from catalogue<1.1.0,>=0.0.7->spacy>=2.2.2->en_core_web_sm==2.2.5) (3.8.1)\n",
            "Requirement already satisfied: urllib3!=1.25.0,!=1.25.1,<1.26,>=1.21.1 in /usr/local/lib/python3.7/dist-packages (from requests<3.0.0,>=2.13.0->spacy>=2.2.2->en_core_web_sm==2.2.5) (1.24.3)\n",
            "Requirement already satisfied: certifi>=2017.4.17 in /usr/local/lib/python3.7/dist-packages (from requests<3.0.0,>=2.13.0->spacy>=2.2.2->en_core_web_sm==2.2.5) (2020.12.5)\n",
            "Requirement already satisfied: idna<3,>=2.5 in /usr/local/lib/python3.7/dist-packages (from requests<3.0.0,>=2.13.0->spacy>=2.2.2->en_core_web_sm==2.2.5) (2.10)\n",
            "Requirement already satisfied: chardet<4,>=3.0.2 in /usr/local/lib/python3.7/dist-packages (from requests<3.0.0,>=2.13.0->spacy>=2.2.2->en_core_web_sm==2.2.5) (3.0.4)\n",
            "Requirement already satisfied: zipp>=0.5 in /usr/local/lib/python3.7/dist-packages (from importlib-metadata>=0.20; python_version < \"3.8\"->catalogue<1.1.0,>=0.0.7->spacy>=2.2.2->en_core_web_sm==2.2.5) (3.4.1)\n",
            "Requirement already satisfied: typing-extensions>=3.6.4; python_version < \"3.8\" in /usr/local/lib/python3.7/dist-packages (from importlib-metadata>=0.20; python_version < \"3.8\"->catalogue<1.1.0,>=0.0.7->spacy>=2.2.2->en_core_web_sm==2.2.5) (3.7.4.3)\n",
            "\u001b[38;5;2m✔ Download and installation successful\u001b[0m\n",
            "You can now load the model via spacy.load('en_core_web_sm')\n"
          ],
          "name": "stdout"
        }
      ]
    },
    {
      "cell_type": "code",
      "metadata": {
        "colab": {
          "base_uri": "https://localhost:8080/"
        },
        "id": "oeN_nipBb_j-",
        "outputId": "3eefe9d9-356e-4bdd-fd3f-385f52777db9"
      },
      "source": [
        "!pip install git+https://github.com/boudinfl/pke.git rake-nltk"
      ],
      "execution_count": null,
      "outputs": [
        {
          "output_type": "stream",
          "text": [
            "Collecting git+https://github.com/boudinfl/pke.git\n",
            "  Cloning https://github.com/boudinfl/pke.git to /tmp/pip-req-build-qnu7a_hp\n",
            "  Running command git clone -q https://github.com/boudinfl/pke.git /tmp/pip-req-build-qnu7a_hp\n",
            "Requirement already satisfied (use --upgrade to upgrade): pke==1.8.1 from git+https://github.com/boudinfl/pke.git in /usr/local/lib/python3.7/dist-packages\n",
            "Collecting rake-nltk\n",
            "  Downloading https://files.pythonhosted.org/packages/8e/c4/b4ff57e541ac5624ad4b20b89c2bafd4e98f29fd83139f3a81858bdb3815/rake_nltk-1.0.4.tar.gz\n",
            "Requirement already satisfied: nltk in /usr/local/lib/python3.7/dist-packages (from pke==1.8.1) (3.4.5)\n",
            "Requirement already satisfied: networkx in /usr/local/lib/python3.7/dist-packages (from pke==1.8.1) (2.5)\n",
            "Requirement already satisfied: numpy in /usr/local/lib/python3.7/dist-packages (from pke==1.8.1) (1.18.1)\n",
            "Requirement already satisfied: scipy in /usr/local/lib/python3.7/dist-packages (from pke==1.8.1) (1.4.1)\n",
            "Requirement already satisfied: spacy in /usr/local/lib/python3.7/dist-packages (from pke==1.8.1) (2.2.4)\n",
            "Requirement already satisfied: six in /usr/local/lib/python3.7/dist-packages (from pke==1.8.1) (1.15.0)\n",
            "Requirement already satisfied: sklearn in /usr/local/lib/python3.7/dist-packages (from pke==1.8.1) (0.0)\n",
            "Requirement already satisfied: unidecode in /usr/local/lib/python3.7/dist-packages (from pke==1.8.1) (1.2.0)\n",
            "Requirement already satisfied: future in /usr/local/lib/python3.7/dist-packages (from pke==1.8.1) (0.16.0)\n",
            "Requirement already satisfied: joblib in /usr/local/lib/python3.7/dist-packages (from pke==1.8.1) (1.0.1)\n",
            "Requirement already satisfied: decorator>=4.3.0 in /usr/local/lib/python3.7/dist-packages (from networkx->pke==1.8.1) (4.4.2)\n",
            "Requirement already satisfied: plac<1.2.0,>=0.9.6 in /usr/local/lib/python3.7/dist-packages (from spacy->pke==1.8.1) (1.1.3)\n",
            "Requirement already satisfied: requests<3.0.0,>=2.13.0 in /usr/local/lib/python3.7/dist-packages (from spacy->pke==1.8.1) (2.23.0)\n",
            "Requirement already satisfied: wasabi<1.1.0,>=0.4.0 in /usr/local/lib/python3.7/dist-packages (from spacy->pke==1.8.1) (0.8.2)\n",
            "Requirement already satisfied: preshed<3.1.0,>=3.0.2 in /usr/local/lib/python3.7/dist-packages (from spacy->pke==1.8.1) (3.0.5)\n",
            "Requirement already satisfied: blis<0.5.0,>=0.4.0 in /usr/local/lib/python3.7/dist-packages (from spacy->pke==1.8.1) (0.4.1)\n",
            "Requirement already satisfied: murmurhash<1.1.0,>=0.28.0 in /usr/local/lib/python3.7/dist-packages (from spacy->pke==1.8.1) (1.0.5)\n",
            "Requirement already satisfied: catalogue<1.1.0,>=0.0.7 in /usr/local/lib/python3.7/dist-packages (from spacy->pke==1.8.1) (1.0.0)\n",
            "Requirement already satisfied: cymem<2.1.0,>=2.0.2 in /usr/local/lib/python3.7/dist-packages (from spacy->pke==1.8.1) (2.0.5)\n",
            "Requirement already satisfied: srsly<1.1.0,>=1.0.2 in /usr/local/lib/python3.7/dist-packages (from spacy->pke==1.8.1) (1.0.5)\n",
            "Requirement already satisfied: tqdm<5.0.0,>=4.38.0 in /usr/local/lib/python3.7/dist-packages (from spacy->pke==1.8.1) (4.41.1)\n",
            "Requirement already satisfied: thinc==7.4.0 in /usr/local/lib/python3.7/dist-packages (from spacy->pke==1.8.1) (7.4.0)\n",
            "Requirement already satisfied: setuptools in /usr/local/lib/python3.7/dist-packages (from spacy->pke==1.8.1) (54.2.0)\n",
            "Requirement already satisfied: scikit-learn in /usr/local/lib/python3.7/dist-packages (from sklearn->pke==1.8.1) (0.22.1)\n",
            "Requirement already satisfied: certifi>=2017.4.17 in /usr/local/lib/python3.7/dist-packages (from requests<3.0.0,>=2.13.0->spacy->pke==1.8.1) (2020.12.5)\n",
            "Requirement already satisfied: idna<3,>=2.5 in /usr/local/lib/python3.7/dist-packages (from requests<3.0.0,>=2.13.0->spacy->pke==1.8.1) (2.10)\n",
            "Requirement already satisfied: urllib3!=1.25.0,!=1.25.1,<1.26,>=1.21.1 in /usr/local/lib/python3.7/dist-packages (from requests<3.0.0,>=2.13.0->spacy->pke==1.8.1) (1.24.3)\n",
            "Requirement already satisfied: chardet<4,>=3.0.2 in /usr/local/lib/python3.7/dist-packages (from requests<3.0.0,>=2.13.0->spacy->pke==1.8.1) (3.0.4)\n",
            "Requirement already satisfied: importlib-metadata>=0.20; python_version < \"3.8\" in /usr/local/lib/python3.7/dist-packages (from catalogue<1.1.0,>=0.0.7->spacy->pke==1.8.1) (3.8.1)\n",
            "Requirement already satisfied: typing-extensions>=3.6.4; python_version < \"3.8\" in /usr/local/lib/python3.7/dist-packages (from importlib-metadata>=0.20; python_version < \"3.8\"->catalogue<1.1.0,>=0.0.7->spacy->pke==1.8.1) (3.7.4.3)\n",
            "Requirement already satisfied: zipp>=0.5 in /usr/local/lib/python3.7/dist-packages (from importlib-metadata>=0.20; python_version < \"3.8\"->catalogue<1.1.0,>=0.0.7->spacy->pke==1.8.1) (3.4.1)\n",
            "Building wheels for collected packages: rake-nltk, pke\n",
            "  Building wheel for rake-nltk (setup.py) ... \u001b[?25l\u001b[?25hdone\n",
            "  Created wheel for rake-nltk: filename=rake_nltk-1.0.4-py2.py3-none-any.whl size=7819 sha256=cf7ae1bc0b41a581db3f008223b359ae9750dcb7c24d5c145d4c14a3dba97151\n",
            "  Stored in directory: /root/.cache/pip/wheels/ef/92/fc/271b3709e71a96ffe934b27818946b795ac6b9b8ff8682483f\n",
            "  Building wheel for pke (setup.py) ... \u001b[?25l\u001b[?25hdone\n",
            "  Created wheel for pke: filename=pke-1.8.1-cp37-none-any.whl size=8763776 sha256=0340c62344f03fa7fb065bcf6724f855ddc01bae2a45f34e74c7dfdc01ec17c1\n",
            "  Stored in directory: /tmp/pip-ephem-wheel-cache-00580_vu/wheels/8d/24/54/6582e854e9e32dd6c632af6762b3a5d2f6b181c2992e165462\n",
            "Successfully built rake-nltk pke\n",
            "Installing collected packages: rake-nltk\n",
            "Successfully installed rake-nltk-1.0.4\n"
          ],
          "name": "stdout"
        }
      ]
    },
    {
      "cell_type": "code",
      "metadata": {
        "id": "8MmXbFZpcVmK"
      },
      "source": [
        "import nltk\n",
        "nltk.download('stopwords')"
      ],
      "execution_count": null,
      "outputs": []
    },
    {
      "cell_type": "code",
      "metadata": {
        "id": "xcWz8rRXagG9"
      },
      "source": [
        "import clusterlogs\n",
        "import pandas as pd"
      ],
      "execution_count": null,
      "outputs": []
    },
    {
      "cell_type": "code",
      "metadata": {
        "id": "AeBSB97AbIwS"
      },
      "source": [
        "df = pd.read_csv('samples/fts_10K.csv')"
      ],
      "execution_count": null,
      "outputs": []
    },
    {
      "cell_type": "code",
      "metadata": {
        "colab": {
          "base_uri": "https://localhost:8080/",
          "height": 402
        },
        "id": "jNstZttzbyke",
        "outputId": "377d8f0d-7600-4d96-a89c-d3b2ac64080a"
      },
      "source": [
        "df"
      ],
      "execution_count": null,
      "outputs": [
        {
          "output_type": "execute_result",
          "data": {
            "text/html": [
              "<div>\n",
              "<style scoped>\n",
              "    .dataframe tbody tr th:only-of-type {\n",
              "        vertical-align: middle;\n",
              "    }\n",
              "\n",
              "    .dataframe tbody tr th {\n",
              "        vertical-align: top;\n",
              "    }\n",
              "\n",
              "    .dataframe thead th {\n",
              "        text-align: right;\n",
              "    }\n",
              "</style>\n",
              "<table border=\"1\" class=\"dataframe\">\n",
              "  <thead>\n",
              "    <tr style=\"text-align: right;\">\n",
              "      <th></th>\n",
              "      <th>id</th>\n",
              "      <th>message</th>\n",
              "    </tr>\n",
              "  </thead>\n",
              "  <tbody>\n",
              "    <tr>\n",
              "      <th>0</th>\n",
              "      <td>0</td>\n",
              "      <td>TRANSFER  globus_ftp_client: the server respon...</td>\n",
              "    </tr>\n",
              "    <tr>\n",
              "      <th>1</th>\n",
              "      <td>3</td>\n",
              "      <td>Error on XrdCl::CopyProcess::Run(): [ERROR] Se...</td>\n",
              "    </tr>\n",
              "    <tr>\n",
              "      <th>2</th>\n",
              "      <td>4</td>\n",
              "      <td>TRANSFER  globus_ftp_client: the server respon...</td>\n",
              "    </tr>\n",
              "    <tr>\n",
              "      <th>3</th>\n",
              "      <td>6</td>\n",
              "      <td>DESTINATION SRM_PUT_TURL error on the turl  re...</td>\n",
              "    </tr>\n",
              "    <tr>\n",
              "      <th>4</th>\n",
              "      <td>7</td>\n",
              "      <td>TRANSFER  Operation canceled from gfal2_cancel</td>\n",
              "    </tr>\n",
              "    <tr>\n",
              "      <th>...</th>\n",
              "      <td>...</td>\n",
              "      <td>...</td>\n",
              "    </tr>\n",
              "    <tr>\n",
              "      <th>9995</th>\n",
              "      <td>15403</td>\n",
              "      <td>Error on XrdCl::CopyProcess::Run(): [ERROR] Se...</td>\n",
              "    </tr>\n",
              "    <tr>\n",
              "      <th>9996</th>\n",
              "      <td>15404</td>\n",
              "      <td>Error on XrdCl::CopyProcess::Run(): [ERROR] Se...</td>\n",
              "    </tr>\n",
              "    <tr>\n",
              "      <th>9997</th>\n",
              "      <td>15405</td>\n",
              "      <td>Error on XrdCl::CopyProcess::Run(): [ERROR] Se...</td>\n",
              "    </tr>\n",
              "    <tr>\n",
              "      <th>9998</th>\n",
              "      <td>15406</td>\n",
              "      <td>Error on XrdCl::CopyProcess::Run(): [ERROR] Se...</td>\n",
              "    </tr>\n",
              "    <tr>\n",
              "      <th>9999</th>\n",
              "      <td>15407</td>\n",
              "      <td>Error on XrdCl::CopyProcess::Run(): [ERROR] Se...</td>\n",
              "    </tr>\n",
              "  </tbody>\n",
              "</table>\n",
              "<p>10000 rows × 2 columns</p>\n",
              "</div>"
            ],
            "text/plain": [
              "         id                                            message\n",
              "0         0  TRANSFER  globus_ftp_client: the server respon...\n",
              "1         3  Error on XrdCl::CopyProcess::Run(): [ERROR] Se...\n",
              "2         4  TRANSFER  globus_ftp_client: the server respon...\n",
              "3         6  DESTINATION SRM_PUT_TURL error on the turl  re...\n",
              "4         7     TRANSFER  Operation canceled from gfal2_cancel\n",
              "...     ...                                                ...\n",
              "9995  15403  Error on XrdCl::CopyProcess::Run(): [ERROR] Se...\n",
              "9996  15404  Error on XrdCl::CopyProcess::Run(): [ERROR] Se...\n",
              "9997  15405  Error on XrdCl::CopyProcess::Run(): [ERROR] Se...\n",
              "9998  15406  Error on XrdCl::CopyProcess::Run(): [ERROR] Se...\n",
              "9999  15407  Error on XrdCl::CopyProcess::Run(): [ERROR] Se...\n",
              "\n",
              "[10000 rows x 2 columns]"
            ]
          },
          "metadata": {
            "tags": []
          },
          "execution_count": 23
        }
      ]
    },
    {
      "cell_type": "code",
      "metadata": {
        "id": "GEbKiwoWcnic"
      },
      "source": [
        "from clusterlogs import pipeline"
      ],
      "execution_count": null,
      "outputs": []
    },
    {
      "cell_type": "code",
      "metadata": {
        "id": "adTPJP6CdOy3"
      },
      "source": [
        "p = pipeline.Chain(df, 'message', mode='create')"
      ],
      "execution_count": null,
      "outputs": []
    },
    {
      "cell_type": "code",
      "metadata": {
        "colab": {
          "base_uri": "https://localhost:8080/"
        },
        "id": "O-coYH03dbhc",
        "outputId": "c845cafd-d5f6-4e12-c2c2-ffa5ef366968"
      },
      "source": [
        "p.process()"
      ],
      "execution_count": null,
      "outputs": [
        {
          "output_type": "stream",
          "text": [
            "Found 230 equal groups of cleaned messages\n",
            "Vectorization of tokens finished\n",
            "Vectorization of messages is finished\n",
            "K-neighbours = 15\n",
            "DBSCAN finished with 37 clusters\n",
            "Timings:\n",
            "{'tokenization': 0.3301, 'cleaning': 0.7636, 'regroup': 1.0835000000000032, 'group_equals': 0.09719999999999684, 'tokens_vectorization': 0.3563, 'sentence_vectorization': 0.0559, 'ml_clustering': 0.2224, 'search_common_patterns': 0.06300000000000004, 'search_keyphrases': 0.02730000000000001}\n"
          ],
          "name": "stdout"
        }
      ]
    },
    {
      "cell_type": "code",
      "metadata": {
        "id": "u-9sqOhZemEb"
      },
      "source": [
        "p = pipeline.Chain(df, 'message', mode='process')"
      ],
      "execution_count": null,
      "outputs": []
    },
    {
      "cell_type": "code",
      "metadata": {
        "colab": {
          "base_uri": "https://localhost:8080/"
        },
        "id": "B1uJO77Ze9ST",
        "outputId": "422f6da2-f087-4abf-f44a-acffb5c9d150"
      },
      "source": [
        "p.process()"
      ],
      "execution_count": null,
      "outputs": [
        {
          "output_type": "stream",
          "text": [
            "Found 230 equal groups of cleaned messages\n",
            "Vectorization of tokens finished\n",
            "Vectorization of messages is finished\n",
            "K-neighbours = 15\n",
            "DBSCAN finished with 37 clusters\n",
            "Timings:\n",
            "{'tokenization': 0.3551, 'cleaning': 0.9239, 'regroup': 1.142400000000002, 'group_equals': 0.10109999999999797, 'tokens_vectorization': 0.0113, 'sentence_vectorization': 0.0652, 'ml_clustering': 0.2211, 'search_common_patterns': 0.07780000000000004, 'search_keyphrases': 0.040500000000000015}\n"
          ],
          "name": "stdout"
        }
      ]
    },
    {
      "cell_type": "code",
      "metadata": {
        "colab": {
          "base_uri": "https://localhost:8080/",
          "height": 1000
        },
        "id": "Qgu4q9Bqe-F_",
        "outputId": "c342020f-9187-4874-8154-dd3b7c7c3d57"
      },
      "source": [
        "p.result"
      ],
      "execution_count": null,
      "outputs": [
        {
          "output_type": "execute_result",
          "data": {
            "text/html": [
              "<div>\n",
              "<style scoped>\n",
              "    .dataframe tbody tr th:only-of-type {\n",
              "        vertical-align: middle;\n",
              "    }\n",
              "\n",
              "    .dataframe tbody tr th {\n",
              "        vertical-align: top;\n",
              "    }\n",
              "\n",
              "    .dataframe thead th {\n",
              "        text-align: right;\n",
              "    }\n",
              "</style>\n",
              "<table border=\"1\" class=\"dataframe\">\n",
              "  <thead>\n",
              "    <tr style=\"text-align: right;\">\n",
              "      <th></th>\n",
              "      <th>pattern</th>\n",
              "      <th>indices</th>\n",
              "      <th>cluster_size</th>\n",
              "      <th>common_phrases</th>\n",
              "    </tr>\n",
              "  </thead>\n",
              "  <tbody>\n",
              "    <tr>\n",
              "      <th>0</th>\n",
              "      <td>[Error on XrdCl::CopyProcess::Run(): [ERROR] S...</td>\n",
              "      <td>[7058, 410, 411, 412, 413, 727, 1134, 1135, 18...</td>\n",
              "      <td>3657</td>\n",
              "      <td>[open permission denied, error authentication ...</td>\n",
              "    </tr>\n",
              "    <tr>\n",
              "      <th>1</th>\n",
              "      <td>[User and source checksums do not match, DESTI...</td>\n",
              "      <td>[681, 682, 4986, 6101, 6102, 906, 907, 1622, 2...</td>\n",
              "      <td>2057</td>\n",
              "      <td>[putdone se putdone srm_internal_error request...</td>\n",
              "    </tr>\n",
              "    <tr>\n",
              "      <th>5</th>\n",
              "      <td>[SOURCE SRM_GET_TURL error on the turl request...</td>\n",
              "      <td>[1868, 2573, 3550, 5188, 128, 1574, 1575, 2307...</td>\n",
              "      <td>865</td>\n",
              "      <td>[destination checksum checksum calculation, so...</td>\n",
              "    </tr>\n",
              "    <tr>\n",
              "      <th>21</th>\n",
              "      <td>[Error reported from srm_ifce : 2 [SE][Ls][SRM...</td>\n",
              "      <td>[351, 1072, 1073, 2486, 2487, 2488, 2489, 3311...</td>\n",
              "      <td>532</td>\n",
              "      <td>[srm_ifce se ls srm_invalid_path, error reported]</td>\n",
              "    </tr>\n",
              "    <tr>\n",
              "      <th>11</th>\n",
              "      <td>[TRANSFER globus_ftp_client: the server respon...</td>\n",
              "      <td>[508, 1213, 1216, 1217, 1218, 1954, 2655, 3696...</td>\n",
              "      <td>400</td>\n",
              "      <td>[error general problem stream ended, error gen...</td>\n",
              "    </tr>\n",
              "    <tr>\n",
              "      <th>8</th>\n",
              "      <td>[globus_xio: Unable to connect to globus_xio: ...</td>\n",
              "      <td>[5038, 417, 418, 1139, 1140, 1141, 1142, 1143,...</td>\n",
              "      <td>335</td>\n",
              "      <td>[system call failed connection refused, system...</td>\n",
              "    </tr>\n",
              "    <tr>\n",
              "      <th>36</th>\n",
              "      <td>[TRANSFER Operation timed out]</td>\n",
              "      <td>[435, 436, 437, 438, 439, 440, 441, 442, 443, ...</td>\n",
              "      <td>332</td>\n",
              "      <td>[transfer operation timed]</td>\n",
              "    </tr>\n",
              "    <tr>\n",
              "      <th>4</th>\n",
              "      <td>[Destination file exists and overwrite is not ...</td>\n",
              "      <td>[178, 179, 180, 181, 182, 183, 184, 185, 186, ...</td>\n",
              "      <td>332</td>\n",
              "      <td>[srm_ifce se ls srm_invalid_path surl, source ...</td>\n",
              "    </tr>\n",
              "    <tr>\n",
              "      <th>16</th>\n",
              "      <td>[globus_ftp_client: the server responded with ...</td>\n",
              "      <td>[3826, 3827, 3828, 3829, 3830, 3831, 3832, 383...</td>\n",
              "      <td>302</td>\n",
              "      <td>[error system error, directory system call fai...</td>\n",
              "    </tr>\n",
              "    <tr>\n",
              "      <th>2</th>\n",
              "      <td>[an end-of-file was reached globus_xio: An end...</td>\n",
              "      <td>[2899, 2900, 5055, 5056, 6803, 8955, 9671, 967...</td>\n",
              "      <td>296</td>\n",
              "      <td>[reached globus_xio, file occurred]</td>\n",
              "    </tr>\n",
              "    <tr>\n",
              "      <th>7</th>\n",
              "      <td>[TRANSFER globus_ftp_client: the server respon...</td>\n",
              "      <td>[6364, 2065, 2064, 662, 2821, 2834, 4965, 4966...</td>\n",
              "      <td>253</td>\n",
              "      <td>[error failed globus_ftp_control_data_write fa...</td>\n",
              "    </tr>\n",
              "    <tr>\n",
              "      <th>19</th>\n",
              "      <td>[TRANSFER globus_ftp_client: the server respon...</td>\n",
              "      <td>[562, 563, 564, 565, 566, 567, 568, 569, 570, ...</td>\n",
              "      <td>157</td>\n",
              "      <td>[error space, enough space, transfer globus_ft...</td>\n",
              "    </tr>\n",
              "    <tr>\n",
              "      <th>23</th>\n",
              "      <td>[Error on XrdCl::CopyProcess::Run(): [ERROR] O...</td>\n",
              "      <td>[2141, 933, 934, 1659, 1660, 1661, 1662, 1663,...</td>\n",
              "      <td>129</td>\n",
              "      <td>[xrdcl copyprocess run error operation, suppor...</td>\n",
              "    </tr>\n",
              "    <tr>\n",
              "      <th>25</th>\n",
              "      <td>[DESTINATION CHECKSUM Operation timed out]</td>\n",
              "      <td>[11, 12, 13, 739, 740, 741, 742, 743, 744, 745...</td>\n",
              "      <td>68</td>\n",
              "      <td>[destination checksum operation timed]</td>\n",
              "    </tr>\n",
              "    <tr>\n",
              "      <th>27</th>\n",
              "      <td>[Operation timed out]</td>\n",
              "      <td>[356, 357, 1076, 1077, 1078, 1079, 1800, 1801,...</td>\n",
              "      <td>55</td>\n",
              "      <td>[operation timed]</td>\n",
              "    </tr>\n",
              "    <tr>\n",
              "      <th>32</th>\n",
              "      <td>[DESTINATION OVERWRITE Result Could not connec...</td>\n",
              "      <td>[26, 27, 28, 29, 30, 31, 762, 2215, 2216, 2914...</td>\n",
              "      <td>46</td>\n",
              "      <td>[destination overwrite result could]</td>\n",
              "    </tr>\n",
              "    <tr>\n",
              "      <th>35</th>\n",
              "      <td>[SOURCE CHECKSUM Operation timed out]</td>\n",
              "      <td>[406, 407, 408, 1844, 1845, 1846, 1847, 2543, ...</td>\n",
              "      <td>31</td>\n",
              "      <td>[source checksum operation timed]</td>\n",
              "    </tr>\n",
              "    <tr>\n",
              "      <th>3</th>\n",
              "      <td>[globus_xio: System error in (.*?) Connection ...</td>\n",
              "      <td>[651, 2815, 3894, 6082, 6083, 7448, 9589, 7531...</td>\n",
              "      <td>27</td>\n",
              "      <td>[system call failed connection reset, recv con...</td>\n",
              "    </tr>\n",
              "    <tr>\n",
              "      <th>10</th>\n",
              "      <td>[globus_ftp_client: the server responded with ...</td>\n",
              "      <td>[726, 2860, 3918, 4989, 4990, 6105, 6106, 6493...</td>\n",
              "      <td>21</td>\n",
              "      <td>[transfer globus_ftp_client, server responded,...</td>\n",
              "    </tr>\n",
              "    <tr>\n",
              "      <th>30</th>\n",
              "      <td>[No such file or directory]</td>\n",
              "      <td>[355, 1075, 2494, 3467, 3468, 3469, 3470, 3471...</td>\n",
              "      <td>17</td>\n",
              "      <td>[]</td>\n",
              "    </tr>\n",
              "    <tr>\n",
              "      <th>12</th>\n",
              "      <td>[Error on XrdCl::CopyProcess::Run(): [ERROR] S...</td>\n",
              "      <td>[8563, 3140, 3141, 3142, 4221, 4222, 4223, 422...</td>\n",
              "      <td>15</td>\n",
              "      <td>[xrdcl copyprocess run error operation, error ...</td>\n",
              "    </tr>\n",
              "    <tr>\n",
              "      <th>6</th>\n",
              "      <td>[DESTINATION OVERWRITE Connection timed out]</td>\n",
              "      <td>[25, 761, 1467, 2214, 6817, 6818, 7561, 8261, ...</td>\n",
              "      <td>13</td>\n",
              "      <td>[destination overwrite connection timed]</td>\n",
              "    </tr>\n",
              "    <tr>\n",
              "      <th>26</th>\n",
              "      <td>[DESTINATION CHECKSUM globus_xio: System error...</td>\n",
              "      <td>[24, 760, 2209, 2210, 2211, 2212, 4001, 4002, ...</td>\n",
              "      <td>11</td>\n",
              "      <td>[system call failed connection reset, destinat...</td>\n",
              "    </tr>\n",
              "    <tr>\n",
              "      <th>9</th>\n",
              "      <td>[Error on XrdCl::CopyProcess::Run(): [ERROR] S...</td>\n",
              "      <td>[941, 4234, 5290, 7730, 9935, 9936, 759, 6732,...</td>\n",
              "      <td>9</td>\n",
              "      <td>[unknown error occurred, error output file, de...</td>\n",
              "    </tr>\n",
              "    <tr>\n",
              "      <th>13</th>\n",
              "      <td>[Error on XrdCl::CopyProcess::Run(): [FATAL] R...</td>\n",
              "      <td>[350, 1793, 1794, 3309, 3310, 5475, 6569, 7851]</td>\n",
              "      <td>8</td>\n",
              "      <td>[]</td>\n",
              "    </tr>\n",
              "    <tr>\n",
              "      <th>33</th>\n",
              "      <td>[Connection timed out]</td>\n",
              "      <td>[1444, 3980, 5052, 7544, 8945]</td>\n",
              "      <td>5</td>\n",
              "      <td>[connection timed]</td>\n",
              "    </tr>\n",
              "    <tr>\n",
              "      <th>22</th>\n",
              "      <td>[DESTINATION SRM_PUT_TURL error on the turl re...</td>\n",
              "      <td>[6423, 6930, 6931, 7655, 9077]</td>\n",
              "      <td>5</td>\n",
              "      <td>[destination srm_put_turl error]</td>\n",
              "    </tr>\n",
              "    <tr>\n",
              "      <th>17</th>\n",
              "      <td>[TRANSFER CHECKSUM MISMATCH USER_DEFINE and SR...</td>\n",
              "      <td>[1393, 7475, 8883, 8884, 2847]</td>\n",
              "      <td>5</td>\n",
              "      <td>[transfer checksum mismatch user_define, src c...</td>\n",
              "    </tr>\n",
              "    <tr>\n",
              "      <th>24</th>\n",
              "      <td>[TRANSFER globus_xio: Unable to connect to sps...</td>\n",
              "      <td>[4982, 4983, 1367, 8170]</td>\n",
              "      <td>4</td>\n",
              "      <td>[system call failed broken pipe, transfer glob...</td>\n",
              "    </tr>\n",
              "    <tr>\n",
              "      <th>20</th>\n",
              "      <td>[SRM operation canceled]</td>\n",
              "      <td>[1150, 8640, 9340]</td>\n",
              "      <td>3</td>\n",
              "      <td>[srm operation canceled]</td>\n",
              "    </tr>\n",
              "    <tr>\n",
              "      <th>15</th>\n",
              "      <td>[Failed to stat file (Permission denied)]</td>\n",
              "      <td>[1798, 1799]</td>\n",
              "      <td>2</td>\n",
              "      <td>[stat file permission denied]</td>\n",
              "    </tr>\n",
              "    <tr>\n",
              "      <th>34</th>\n",
              "      <td>[DESTINATION OVERWRITE Result (Neon): SSL hand...</td>\n",
              "      <td>[2913, 4003]</td>\n",
              "      <td>2</td>\n",
              "      <td>[ssl handshake]</td>\n",
              "    </tr>\n",
              "    <tr>\n",
              "      <th>14</th>\n",
              "      <td>[TRANSFER globus_ftp_client: the server respon...</td>\n",
              "      <td>[7421, 9548]</td>\n",
              "      <td>2</td>\n",
              "      <td>[error failed globus_xio system error, system ...</td>\n",
              "    </tr>\n",
              "    <tr>\n",
              "      <th>28</th>\n",
              "      <td>[Error on XrdCl::CopyProcess::Run(): [FATAL] A...</td>\n",
              "      <td>[8564]</td>\n",
              "      <td>1</td>\n",
              "      <td>[]</td>\n",
              "    </tr>\n",
              "    <tr>\n",
              "      <th>29</th>\n",
              "      <td>[TRANSFER globus_ftp_client: the server respon...</td>\n",
              "      <td>[1325]</td>\n",
              "      <td>1</td>\n",
              "      <td>[file occurred end, transfer globus_ftp_client...</td>\n",
              "    </tr>\n",
              "    <tr>\n",
              "      <th>31</th>\n",
              "      <td>[DESTINATION CHECKSUM globus_xio: Unable to co...</td>\n",
              "      <td>[2213]</td>\n",
              "      <td>1</td>\n",
              "      <td>[globus_xio globus_libc_getaddrinfo failed glo...</td>\n",
              "    </tr>\n",
              "    <tr>\n",
              "      <th>18</th>\n",
              "      <td>[TRANSFER globus_xio: Unable to connect to mar...</td>\n",
              "      <td>[7468]</td>\n",
              "      <td>1</td>\n",
              "      <td>[system call failed network, globus_xio system...</td>\n",
              "    </tr>\n",
              "  </tbody>\n",
              "</table>\n",
              "</div>"
            ],
            "text/plain": [
              "                                              pattern  ...                                     common_phrases\n",
              "0   [Error on XrdCl::CopyProcess::Run(): [ERROR] S...  ...  [open permission denied, error authentication ...\n",
              "1   [User and source checksums do not match, DESTI...  ...  [putdone se putdone srm_internal_error request...\n",
              "5   [SOURCE SRM_GET_TURL error on the turl request...  ...  [destination checksum checksum calculation, so...\n",
              "21  [Error reported from srm_ifce : 2 [SE][Ls][SRM...  ...  [srm_ifce se ls srm_invalid_path, error reported]\n",
              "11  [TRANSFER globus_ftp_client: the server respon...  ...  [error general problem stream ended, error gen...\n",
              "8   [globus_xio: Unable to connect to globus_xio: ...  ...  [system call failed connection refused, system...\n",
              "36                     [TRANSFER Operation timed out]  ...                         [transfer operation timed]\n",
              "4   [Destination file exists and overwrite is not ...  ...  [srm_ifce se ls srm_invalid_path surl, source ...\n",
              "16  [globus_ftp_client: the server responded with ...  ...  [error system error, directory system call fai...\n",
              "2   [an end-of-file was reached globus_xio: An end...  ...                [reached globus_xio, file occurred]\n",
              "7   [TRANSFER globus_ftp_client: the server respon...  ...  [error failed globus_ftp_control_data_write fa...\n",
              "19  [TRANSFER globus_ftp_client: the server respon...  ...  [error space, enough space, transfer globus_ft...\n",
              "23  [Error on XrdCl::CopyProcess::Run(): [ERROR] O...  ...  [xrdcl copyprocess run error operation, suppor...\n",
              "25         [DESTINATION CHECKSUM Operation timed out]  ...             [destination checksum operation timed]\n",
              "27                              [Operation timed out]  ...                                  [operation timed]\n",
              "32  [DESTINATION OVERWRITE Result Could not connec...  ...               [destination overwrite result could]\n",
              "35              [SOURCE CHECKSUM Operation timed out]  ...                  [source checksum operation timed]\n",
              "3   [globus_xio: System error in (.*?) Connection ...  ...  [system call failed connection reset, recv con...\n",
              "10  [globus_ftp_client: the server responded with ...  ...  [transfer globus_ftp_client, server responded,...\n",
              "30                        [No such file or directory]  ...                                                 []\n",
              "12  [Error on XrdCl::CopyProcess::Run(): [ERROR] S...  ...  [xrdcl copyprocess run error operation, error ...\n",
              "6        [DESTINATION OVERWRITE Connection timed out]  ...           [destination overwrite connection timed]\n",
              "26  [DESTINATION CHECKSUM globus_xio: System error...  ...  [system call failed connection reset, destinat...\n",
              "9   [Error on XrdCl::CopyProcess::Run(): [ERROR] S...  ...  [unknown error occurred, error output file, de...\n",
              "13  [Error on XrdCl::CopyProcess::Run(): [FATAL] R...  ...                                                 []\n",
              "33                             [Connection timed out]  ...                                 [connection timed]\n",
              "22  [DESTINATION SRM_PUT_TURL error on the turl re...  ...                   [destination srm_put_turl error]\n",
              "17  [TRANSFER CHECKSUM MISMATCH USER_DEFINE and SR...  ...  [transfer checksum mismatch user_define, src c...\n",
              "24  [TRANSFER globus_xio: Unable to connect to sps...  ...  [system call failed broken pipe, transfer glob...\n",
              "20                           [SRM operation canceled]  ...                           [srm operation canceled]\n",
              "15          [Failed to stat file (Permission denied)]  ...                      [stat file permission denied]\n",
              "34  [DESTINATION OVERWRITE Result (Neon): SSL hand...  ...                                    [ssl handshake]\n",
              "14  [TRANSFER globus_ftp_client: the server respon...  ...  [error failed globus_xio system error, system ...\n",
              "28  [Error on XrdCl::CopyProcess::Run(): [FATAL] A...  ...                                                 []\n",
              "29  [TRANSFER globus_ftp_client: the server respon...  ...  [file occurred end, transfer globus_ftp_client...\n",
              "31  [DESTINATION CHECKSUM globus_xio: Unable to co...  ...  [globus_xio globus_libc_getaddrinfo failed glo...\n",
              "18  [TRANSFER globus_xio: Unable to connect to mar...  ...  [system call failed network, globus_xio system...\n",
              "\n",
              "[37 rows x 4 columns]"
            ]
          },
          "metadata": {
            "tags": []
          },
          "execution_count": 41
        }
      ]
    },
    {
      "cell_type": "code",
      "metadata": {
        "id": "_I43lcfofSJv"
      },
      "source": [
        "a = p.result.sample(1)"
      ],
      "execution_count": null,
      "outputs": []
    },
    {
      "cell_type": "code",
      "metadata": {
        "colab": {
          "base_uri": "https://localhost:8080/",
          "height": 77
        },
        "id": "mt-zDanpfgpC",
        "outputId": "9235ca44-7cfb-4e34-e603-b7c2b8e6956a"
      },
      "source": [
        "a"
      ],
      "execution_count": null,
      "outputs": [
        {
          "output_type": "execute_result",
          "data": {
            "text/html": [
              "<div>\n",
              "<style scoped>\n",
              "    .dataframe tbody tr th:only-of-type {\n",
              "        vertical-align: middle;\n",
              "    }\n",
              "\n",
              "    .dataframe tbody tr th {\n",
              "        vertical-align: top;\n",
              "    }\n",
              "\n",
              "    .dataframe thead th {\n",
              "        text-align: right;\n",
              "    }\n",
              "</style>\n",
              "<table border=\"1\" class=\"dataframe\">\n",
              "  <thead>\n",
              "    <tr style=\"text-align: right;\">\n",
              "      <th></th>\n",
              "      <th>pattern</th>\n",
              "      <th>indices</th>\n",
              "      <th>cluster_size</th>\n",
              "      <th>common_phrases</th>\n",
              "    </tr>\n",
              "  </thead>\n",
              "  <tbody>\n",
              "    <tr>\n",
              "      <th>7</th>\n",
              "      <td>[TRANSFER globus_ftp_client: the server respon...</td>\n",
              "      <td>[6364, 2065, 2064, 662, 2821, 2834, 4965, 4966...</td>\n",
              "      <td>253</td>\n",
              "      <td>[error failed globus_ftp_control_data_write fa...</td>\n",
              "    </tr>\n",
              "  </tbody>\n",
              "</table>\n",
              "</div>"
            ],
            "text/plain": [
              "                                             pattern  ...                                     common_phrases\n",
              "7  [TRANSFER globus_ftp_client: the server respon...  ...  [error failed globus_ftp_control_data_write fa...\n",
              "\n",
              "[1 rows x 4 columns]"
            ]
          },
          "metadata": {
            "tags": []
          },
          "execution_count": 64
        }
      ]
    },
    {
      "cell_type": "code",
      "metadata": {
        "colab": {
          "base_uri": "https://localhost:8080/"
        },
        "id": "_OWobNS6fi34",
        "outputId": "9782162a-1e0b-411b-d7fa-d42fafeddd8a"
      },
      "source": [
        "list(df[df.id == 662].message)"
      ],
      "execution_count": null,
      "outputs": [
        {
          "output_type": "execute_result",
          "data": {
            "text/plain": [
              "['TRANSFER  globus_ftp_client: the server responded with an error 451 General problem: Problem while connected to [2607:f8f0:660:3::47]:20628: ClosedChannelException   ']"
            ]
          },
          "metadata": {
            "tags": []
          },
          "execution_count": 66
        }
      ]
    },
    {
      "cell_type": "code",
      "metadata": {
        "id": "1n5K4n7-flY8"
      },
      "source": [
        ""
      ],
      "execution_count": null,
      "outputs": []
    }
  ]
}